{
 "cells": [
  {
   "cell_type": "markdown",
   "metadata": {
    "collapsed": true,
    "pycharm": {
     "name": "#%% md\n"
    }
   },
   "source": [
    "# 线性求解正规方程\n",
    "回顾一下，我们所需要求解的是\n",
    "\n",
    "$$ a = \\frac{\\sum^m_{i=1}(X^{i} - x_{mean})(y^{i} - y_{mean})} {\\sum^{m}_{i=1}(x^{i} - x_{mean})^2} $$\n",
    "\n",
    "$$ b = y_{mean} - a*x_{mean} $$\n",
    "\n",
    "通过观察我们可以发现，a,b的求解都满足$\\sum_{i=1}^mw^{i} \\cdot v^{i}$"
   ]
  },
  {
   "cell_type": "code",
   "execution_count": 4,
   "outputs": [],
   "source": [
    "import numpy as np\n",
    "\n",
    "size = 100000\n",
    "x = np.random.random(size=size)\n",
    "y = 2.3 * x + 1.1 + np.random.normal(size=size)\n",
    "\n",
    "x_mean = np.mean(x)\n",
    "y_mean = np.mean(y)\n",
    "\n",
    "a = (x - x_mean).dot(y - y_mean) / (x - x_mean).dot(x - x_mean)\n",
    "b = y_mean - a * x_mean"
   ],
   "metadata": {
    "collapsed": false,
    "pycharm": {
     "name": "#%%\n"
    }
   }
  },
  {
   "cell_type": "code",
   "execution_count": 5,
   "outputs": [
    {
     "data": {
      "text/plain": "2.302741788901535"
     },
     "execution_count": 5,
     "metadata": {},
     "output_type": "execute_result"
    }
   ],
   "source": [
    "a"
   ],
   "metadata": {
    "collapsed": false,
    "pycharm": {
     "name": "#%%\n"
    }
   }
  },
  {
   "cell_type": "code",
   "execution_count": 6,
   "outputs": [
    {
     "data": {
      "text/plain": "1.0975773015754746"
     },
     "execution_count": 6,
     "metadata": {},
     "output_type": "execute_result"
    }
   ],
   "source": [
    "b"
   ],
   "metadata": {
    "collapsed": false,
    "pycharm": {
     "name": "#%%\n"
    }
   }
  },
  {
   "cell_type": "markdown",
   "source": [
    "对比之后发现，使用向量点乘的方式可以大大提高运算效率，更大程度地节约时间:\n"
   ],
   "metadata": {
    "collapsed": false,
    "pycharm": {
     "name": "#%% md\n"
    }
   }
  },
  {
   "cell_type": "code",
   "execution_count": 7,
   "outputs": [
    {
     "name": "stdout",
     "output_type": "stream",
     "text": [
      "1.19 s ± 18.8 ms per loop (mean ± std. dev. of 7 runs, 1 loop each)\n",
      "13.7 ms ± 339 µs per loop (mean ± std. dev. of 7 runs, 100 loops each)\n"
     ]
    }
   ],
   "source": [
    "from moon import linear_model\n",
    "\n",
    "m = 1000000\n",
    "big_x = np.random.random(size=m)\n",
    "big_y = big_x * 2 + 3 + np.random.normal(size=m)\n",
    "\n",
    "linearR1 = linear_model.LinearRegression1()\n",
    "linearR2 = linear_model.LinearRegression2()\n",
    "\n",
    "%timeit linearR1.fit(big_x,big_y)\n",
    "%timeit linearR2.fit(big_x,big_y)\n",
    "\n",
    "\"\"\" result:\n",
    "1.19 s ± 18.8 ms per loop (mean ± std. dev. of 7 runs, 1 loop each)\n",
    "13.7 ms ± 339 µs per loop (mean ± std. dev. of 7 runs, 100 loops each)\n",
    "\"\"\""
   ],
   "metadata": {
    "collapsed": false,
    "pycharm": {
     "name": "#%%\n"
    }
   }
  }
 ],
 "metadata": {
  "kernelspec": {
   "display_name": "Python 3",
   "language": "python",
   "name": "python3"
  },
  "language_info": {
   "codemirror_mode": {
    "name": "ipython",
    "version": 2
   },
   "file_extension": ".py",
   "mimetype": "text/x-python",
   "name": "python",
   "nbconvert_exporter": "python",
   "pygments_lexer": "ipython2",
   "version": "2.7.6"
  }
 },
 "nbformat": 4,
 "nbformat_minor": 0
}