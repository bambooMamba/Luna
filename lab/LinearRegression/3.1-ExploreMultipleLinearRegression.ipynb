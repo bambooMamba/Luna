{
 "cells": [
  {
   "cell_type": "markdown",
   "metadata": {
    "collapsed": true,
    "pycharm": {
     "name": "#%% md\n"
    }
   },
   "source": [
    "# 多元线性回归\n",
    "## 目标：\n",
    "- 找到一个向量$\\theta$，使得损失函数$\\hat y^i = \\theta_0 + \\theta_1X^i_1 + \\theta_2X^i_2+...+\\theta_nX^i_n$尽可能小\n",
    "## 寻找：\n",
    "1. 假设第i行数据的特征向量为：$X^i = (X_0^i,X^i,...,X_n^i)$，且$X_0^i ≡ 1$\n",
    "2. 根据损失函数，我们可以归纳出$\\hat y^i = X^i · \\theta$\n",
    "3. $\\hat y = X_b · \\theta$\n",
    "4. $X_b = \\left[\n",
    "\\begin{matrix}\n",
    "1 & X_1^1 & ... & X_1^n \\\\\n",
    "1 & X_1^2 & ... & X_2^n \\\\\n",
    ". & ..... & ... & ..... \\\\\n",
    "1 & X_1^m & ... & X_m^n \\\\\n",
    "\\end{matrix} \\right]$\n",
    "5. 最后可以得出结论公式：损失函数$(y - X_b·\\theta)^T(y - X_b·\\theta)$\n",
    "6. 根据上式可以推导出多元线性回归的**正规方程解**：$\\theta = (X^T_bX_b)^{-1}X^T_by$\n",
    "7. 缺点：时间复杂度非常高\n",
    "8. 优点：不需要数据归一化处理，因为数据是否统一都无所谓"
   ]
  },
  {
   "cell_type": "code",
   "execution_count": 1,
   "outputs": [],
   "source": [
    "# 引入boston数据\n",
    "from sklearn.datasets import load_boston\n",
    "\n",
    "boston = load_boston()\n",
    "X = boston.data\n",
    "y = boston.target\n",
    "X = X[y < 50.0]\n",
    "y = y[y < 50.0]"
   ],
   "metadata": {
    "collapsed": false,
    "pycharm": {
     "name": "#%%\n"
    }
   }
  },
  {
   "cell_type": "code",
   "execution_count": 2,
   "outputs": [],
   "source": [
    "\n",
    "from sklearn.model_selection import train_test_split\n",
    "\n",
    "X_train,X_test,y_train,y_test = train_test_split(X, y, random_state=666)"
   ],
   "metadata": {
    "collapsed": false,
    "pycharm": {
     "name": "#%%\n"
    }
   }
  },
  {
   "cell_type": "markdown",
   "source": [
    "## 构建$X_b$"
   ],
   "metadata": {
    "collapsed": false,
    "pycharm": {
     "name": "#%% md\n"
    }
   }
  },
  {
   "cell_type": "code",
   "execution_count": 3,
   "outputs": [],
   "source": [
    "import numpy as np\n",
    "X_b = np.hstack([np.ones((len(X_train), 1)), X_train])\n"
   ],
   "metadata": {
    "collapsed": false,
    "pycharm": {
     "name": "#%%\n"
    }
   }
  },
  {
   "cell_type": "code",
   "execution_count": 4,
   "outputs": [
    {
     "data": {
      "text/plain": "array([[1.00000e+00, 9.25200e-02, 3.00000e+01, ..., 1.66000e+01,\n        3.83780e+02, 7.37000e+00],\n       [1.00000e+00, 8.66400e-02, 4.50000e+01, ..., 1.52000e+01,\n        3.90490e+02, 2.87000e+00],\n       [1.00000e+00, 2.87500e-02, 2.80000e+01, ..., 1.82000e+01,\n        3.96330e+02, 6.21000e+00],\n       ...,\n       [1.00000e+00, 1.06718e+01, 0.00000e+00, ..., 2.02000e+01,\n        4.30600e+01, 2.39800e+01],\n       [1.00000e+00, 9.59571e+00, 0.00000e+00, ..., 2.02000e+01,\n        3.76110e+02, 2.03100e+01],\n       [1.00000e+00, 2.06080e-01, 2.20000e+01, ..., 1.91000e+01,\n        3.72490e+02, 1.25000e+01]])"
     },
     "execution_count": 4,
     "metadata": {},
     "output_type": "execute_result"
    }
   ],
   "source": [
    "X_b"
   ],
   "metadata": {
    "collapsed": false,
    "pycharm": {
     "name": "#%%\n"
    }
   }
  },
  {
   "cell_type": "code",
   "execution_count": 5,
   "outputs": [
    {
     "data": {
      "text/plain": "(490, 13)"
     },
     "execution_count": 5,
     "metadata": {},
     "output_type": "execute_result"
    }
   ],
   "source": [
    "X.shape"
   ],
   "metadata": {
    "collapsed": false,
    "pycharm": {
     "name": "#%%\n"
    }
   }
  },
  {
   "cell_type": "code",
   "execution_count": 6,
   "outputs": [
    {
     "data": {
      "text/plain": "(367, 14)"
     },
     "execution_count": 6,
     "metadata": {},
     "output_type": "execute_result"
    }
   ],
   "source": [
    "X_b.shape"
   ],
   "metadata": {
    "collapsed": false,
    "pycharm": {
     "name": "#%%\n"
    }
   }
  },
  {
   "cell_type": "code",
   "execution_count": 7,
   "outputs": [
    {
     "data": {
      "text/plain": "0.8009390227581066"
     },
     "execution_count": 7,
     "metadata": {},
     "output_type": "execute_result"
    }
   ],
   "source": [
    "from moon.linear_model import MultipleLinearRegression\n",
    "\n",
    "regression = MultipleLinearRegression()\n",
    "regression.fit_normal(X_train,y_train)\n",
    "regression.score(X_test,y_test)"
   ],
   "metadata": {
    "collapsed": false,
    "pycharm": {
     "name": "#%%\n"
    }
   }
  }
 ],
 "metadata": {
  "kernelspec": {
   "display_name": "Python 3",
   "language": "python",
   "name": "python3"
  },
  "language_info": {
   "codemirror_mode": {
    "name": "ipython",
    "version": 2
   },
   "file_extension": ".py",
   "mimetype": "text/x-python",
   "name": "python",
   "nbconvert_exporter": "python",
   "pygments_lexer": "ipython2",
   "version": "2.7.6"
  }
 },
 "nbformat": 4,
 "nbformat_minor": 0
}