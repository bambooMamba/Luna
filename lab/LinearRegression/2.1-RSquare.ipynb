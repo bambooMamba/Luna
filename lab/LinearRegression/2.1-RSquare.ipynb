{
 "cells": [
  {
   "cell_type": "markdown",
   "metadata": {
    "collapsed": true,
    "pycharm": {
     "name": "#%% md\n"
    }
   },
   "source": [
    "# 最好的衡量线性回归法的指标R²\n",
    "上面小结看得出MSE、RMSE、MAE都无法很直观的看出一个合理范围的值，所以我们引入了R²，将分类准确度统一在0到1之间：0最差，1最好\n",
    "\n",
    "1. 直接给出计算指标公式：$R^2 = 1 - \\frac{SS_{residual}}{SS_{total}}$\n",
    "2. 一般$SS_{residual}$解释为：Residual Sum of Squares，暨$SS_{residual} = \\sum_{i=1}^{m}(y^i - y^i_h) ^ 2$\n",
    "3. $SS_{total}$解释为：Total Sum of Squares，暨$SS_{total} = \\sum_{i=1}^m(y_{mean} - y^i) ^ 2$\n",
    "$$ R^2 = 1 - \\frac {\\sum_{i=1}^{m}(y^i - y^i_h) ^ 2}{\\sum_{i=1}^m(y_{mean} - y^i) ^ 2}$$\n",
    "4. R²的意义是：对于$SS_{residual}$来说，我们可以理解成我们预测模型计算出来产生的错误\n",
    "5. 分母$SS_{total}$可以理解成基本错误，暨$y = y_{mean}$，记作Baseline Model，这个错误是比较多的预测\n",
    "6. $R^2 <= 1$\n",
    "7. $R ^ 2$越大越好，当且仅当预测模型没有任何错误的时候，$R^2==1$\n",
    "8. $R^2 == 0$说明我们的模型等于baselin，训练无效\n",
    "9. $R^2 < 0$说明我们学习到的模型还不如基本模型，此时可以判断得出我们的数据不是线性数据\n",
    "10. 公式中分子分母同时除以m，可以得到变形公式：$$ R^2 = 1 - \\frac {{\\sum_{i=1}^{m}(y^i - y^i_h) ^ 2}\\div{m}}{{\\sum_{i=1}^m(y_{mean} - y^i) ^ 2} \\div {m}}$$\n",
    "11. 我么可以看出：${\\sum_{i=1}^{m}(y^i - y^i_h) ^ 2}\\div{m}$就是MSE\n",
    "12. ${\\sum_{i=1}^m(y_{mean} - y^i) ^ 2} \\div {m}$就是方差\n",
    "13. 暨$R ^ 2 = 1 - \\frac{MSE(y^{h},y)}{var(y)}$\n",
    "14. $R^2$具有统计意义的"
   ]
  },
  {
   "cell_type": "code",
   "execution_count": null,
   "outputs": [],
   "source": [
    "\n",
    "from sklearn.datasets import load_boston\n",
    "from moon.model_selection import train_test_split\n",
    "from moon.linear_model import LinearRegression\n",
    "from moon import metrics\n",
    "import numpy as np\n",
    "\n",
    "boston = load_boston()\n",
    "X = boston.data[:, 5]  # average number of rooms per dwelling\n",
    "y = boston.target\n",
    "X = X[y < 50]\n",
    "y = y[y < 50]\n",
    "X_train, X_test, y_train, y_test = train_test_split(X, y)\n",
    "\n",
    "regression = LinearRegression()\n",
    "regression.fit(X_train, y_train)\n",
    "y_predict = regression.predict(X_test)\n",
    "\n",
    "mse = metrics.mean_squared_error(y_test, y_predict)\n",
    "var_y = np.var(y_test)\n",
    "\n",
    "r_s = 1 - mse / var_y\n",
    "r_s"
   ],
   "metadata": {
    "collapsed": false,
    "pycharm": {
     "name": "#%%\n",
     "is_executing": true
    }
   }
  },
  {
   "cell_type": "code",
   "execution_count": 2,
   "outputs": [
    {
     "data": {
      "text/plain": "0.4254103857097776"
     },
     "execution_count": 2,
     "metadata": {},
     "output_type": "execute_result"
    }
   ],
   "source": [
    "r_s = metrics.r2_score(y_test, y_predict)\n",
    "\n",
    "r_s"
   ],
   "metadata": {
    "collapsed": false,
    "pycharm": {
     "name": "#%%\n"
    }
   }
  },
  {
   "cell_type": "code",
   "execution_count": null,
   "outputs": [],
   "source": [
    "from sklearn.metrics import r2_score\n",
    "r2_score(y_test,y_predict)"
   ],
   "metadata": {
    "collapsed": false,
    "pycharm": {
     "name": "#%%\n"
    }
   }
  }
 ],
 "metadata": {
  "kernelspec": {
   "display_name": "Python 3",
   "language": "python",
   "name": "python3"
  },
  "language_info": {
   "codemirror_mode": {
    "name": "ipython",
    "version": 2
   },
   "file_extension": ".py",
   "mimetype": "text/x-python",
   "name": "python",
   "nbconvert_exporter": "python",
   "pygments_lexer": "ipython2",
   "version": "2.7.6"
  }
 },
 "nbformat": 4,
 "nbformat_minor": 0
}