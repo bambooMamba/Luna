{
 "cells": [
  {
   "cell_type": "markdown",
   "source": [
    "# 网格化搜索超参数\n",
    "从之前可以看出，我们想要搜索超参数是一个很大的工作量，需要重复学习，试验，我们可以直接使用sklearn中提供的类进行网格化搜索超参数以求寻找到最好的超参数"
   ],
   "attachments": {},
   "metadata": {}
  },
  {
   "cell_type": "code",
   "source": [
    "from sklearn import datasets\n",
    "from sklearn.neighbors import KNeighborsClassifier\n",
    "from sklearn import model_selection\n",
    "\n",
    "digits = datasets.load_digits()\n",
    "X = digits.data\n",
    "y = digits.target"
   ],
   "execution_count": 11,
   "outputs": [],
   "metadata": {}
  },
  {
   "cell_type": "code",
   "source": [
    "%time\n",
    "X_train,X_test,y_train,y_test = model_selection.train_test_split(X,y,test_size=.2,random_state=666)\n",
    "param_grid = [\n",
    "              {\n",
    "               \"weights\":[\"uniform\"],\n",
    "               \"n_neighbors\":[k for k in range(1,11)]\n",
    "              },\n",
    "              {\n",
    "               \"weights\":[\"distance\"],\n",
    "               \"n_neighbors\":[k for k in range(1,11)],\n",
    "               \"p\":[p for p in range(1,5)]\n",
    "              }\n",
    "]\n",
    "knn = KNeighborsClassifier()\n",
    "grid_search = model_selection.GridSearchCV(knn,param_grid=param_grid,n_jobs=-1)\n",
    "grid_search.fit(X_train,y_train)"
   ],
   "execution_count": 12,
   "outputs": [
    {
     "name": "stdout",
     "output_type": "stream",
     "text": [
      "Wall time: 0 ns\n"
     ]
    },
    {
     "data": {
      "text/plain": "GridSearchCV(estimator=KNeighborsClassifier(), n_jobs=-1,\n             param_grid=[{'n_neighbors': [1, 2, 3, 4, 5, 6, 7, 8, 9, 10],\n                          'weights': ['uniform']},\n                         {'n_neighbors': [1, 2, 3, 4, 5, 6, 7, 8, 9, 10],\n                          'p': [1, 2, 3, 4], 'weights': ['distance']}])"
     },
     "execution_count": 12,
     "metadata": {},
     "output_type": "execute_result"
    }
   ],
   "metadata": {}
  },
  {
   "cell_type": "code",
   "source": [
    "grid_search.best_score_"
   ],
   "execution_count": 13,
   "outputs": [
    {
     "data": {
      "text/plain": "0.9860820751064653"
     },
     "execution_count": 13,
     "metadata": {},
     "output_type": "execute_result"
    }
   ],
   "metadata": {}
  },
  {
   "cell_type": "code",
   "source": [
    "grid_search.best_params_"
   ],
   "execution_count": 14,
   "outputs": [
    {
     "data": {
      "text/plain": "{'n_neighbors': 1, 'weights': 'uniform'}"
     },
     "execution_count": 14,
     "metadata": {},
     "output_type": "execute_result"
    }
   ],
   "metadata": {
    "pycharm": {
     "name": "#%%\n"
    }
   }
  }
 ],
 "metadata": {
  "kernelspec": {
   "name": "python3",
   "language": "python",
   "display_name": "Python 3"
  }
 },
 "nbformat": 4,
 "nbformat_minor": 0
}