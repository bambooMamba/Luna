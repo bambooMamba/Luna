{
 "cells": [
  {
   "cell_type": "markdown",
   "metadata": {
    "collapsed": true,
    "pycharm": {
     "name": "#%% md\n"
    }
   },
   "source": [
    "# k近邻算法\n",
    "## 一、kNN算法的特点\n",
    "1. 思想极度简单\n",
    "- 应用的数学知识几乎为零\n",
    "- 效果很好\n",
    "- 可以解释机器学习算法使用过程中很多细节问题\n",
    "- 本节将借助kNN更完整地刻画了机器学习应用的流程\n",
    "\n",
    "## 二、kNN的原理\n",
    "**kNN解决的是监督学习中的分类问题，但是也可以解决回归问题**\n",
    "原理：利用相邻k个点的距离计算出给定的点属于哪个类别\n",
    "\n",
    "例子：我们定义以下数据集：raw_data_X为特征矩阵，raw_data_y为类别矩阵\n",
    "## 三、 kNN的过程\n",
    "1. 特征点的距离计算使用欧拉距离进行计算</br>\n",
    "平面内的欧拉距离：$$Euler=\\sqrt{(X^{(a)} - X^{(b)})^2 + (y^{(a)} - y^{(b)})^2}$$</br>\n",
    "当然，经过多维扩展后，我们可以得到最终的欧拉公式：</br>\n",
    "定义：X表示整个特征数据矩阵，上标代表某个样本，下标代表维度，假设特征向量有N个维度\n",
    "$$Euler = \\sqrt{\\sum_{i=1}^{n}(X^{(a)}_{i} - X^{(b)}_{i})^2}$$\n",
    "2. 得到距离后，我们要计算出距离最近的k个点分别对应的矩阵中的索引\n",
    "3. 在给定的k中把nearest的值取出来\n",
    "4. 计算不同类别的点可以有多少个\n",
    "**通过以下可以看到，kNN算法是一个不需要训练过程的算法，但是我们为了统一，可以认为训练数据集本身就是模型**"
   ]
  },
  {
   "cell_type": "code",
   "execution_count": 1,
   "outputs": [
    {
     "data": {
      "text/plain": "<Figure size 432x288 with 1 Axes>",
      "image/png": "[encoded data removed]"
     },
     "metadata": {
      "needs_background": "light"
     },
     "output_type": "display_data"
    },
    {
     "data": {
      "text/plain": "<Figure size 432x288 with 1 Axes>",
      "image/png": "[encoded data removed]"
     },
     "metadata": {
      "needs_background": "light"
     },
     "output_type": "display_data"
    }
   ],
   "source": [
    "import numpy as np\n",
    "from matplotlib import pyplot as plt\n",
    "\n",
    "raw_data_X = [[3.393533211, 2.331273381],\n",
    "              [3.110073483, 1.781539638],\n",
    "              [1.343808831, 3.368360954],\n",
    "              [3.582294042, 4.679179110],\n",
    "              [2.280362439, 2.866990263],\n",
    "              [7.423436942, 4.696522875],\n",
    "              [5.745051997, 3.533989803],\n",
    "              [9.172168622, 2.511101045],\n",
    "              [7.792783481, 3.424088941],\n",
    "              [7.939820817, 0.791637231]\n",
    "              ]\n",
    "raw_data_y = [0, 0, 0, 0, 0, 1, 1, 1, 1, 1]\n",
    "X_train = np.array(raw_data_X)\n",
    "y_train = np.array(raw_data_y)\n",
    "plt.scatter(X_train[y_train == 0, 0], X_train[y_train == 0, 1], color=\"red\")\n",
    "plt.scatter(X_train[y_train == 1, 0], X_train[y_train == 1, 1], color=\"black\")\n",
    "plt.show()\n",
    "x = np.array([8.093607318, 3.365731514])\n",
    "plt.scatter(X_train[y_train == 0, 0], X_train[y_train == 0, 1], color=\"red\")\n",
    "plt.scatter(X_train[y_train == 1, 0], X_train[y_train == 1, 1], color=\"black\")\n",
    "plt.scatter(x[0], x[1], color=\"cyan\")\n",
    "plt.show()"
   ],
   "metadata": {
    "collapsed": false,
    "pycharm": {
     "name": "#%%\n"
    }
   }
  },
  {
   "cell_type": "code",
   "execution_count": 2,
   "outputs": [
    {
     "data": {
      "text/plain": "array([1, 1, 1, 1, 1, 0])"
     },
     "execution_count": 2,
     "metadata": {},
     "output_type": "execute_result"
    }
   ],
   "source": [
    "\"\"\"kNN的过程\"\"\"\n",
    "\n",
    "from math import sqrt\n",
    "\n",
    "distances = [sqrt(np.sum((x_train - x) ** 2)) for x_train in X_train]\n",
    "nearest = np.argsort(distances)\n",
    "k = 6\n",
    "topK_y = y_train[nearest[:k]]\n",
    "topK_y"
   ],
   "metadata": {
    "collapsed": false,
    "pycharm": {
     "name": "#%%\n"
    }
   }
  },
  {
   "cell_type": "code",
   "execution_count": 3,
   "outputs": [
    {
     "name": "stdout",
     "output_type": "stream",
     "text": [
      "Counter({1: 5, 0: 1})\n",
      "<class 'collections.Counter'>\n"
     ]
    },
    {
     "data": {
      "text/plain": "1"
     },
     "execution_count": 3,
     "metadata": {},
     "output_type": "execute_result"
    }
   ],
   "source": [
    "from collections import Counter\n",
    "votes = Counter(topK_y)\n",
    "print(votes)\n",
    "print(type(votes))\n",
    "votes.most_common(1)\n",
    "predict_y = votes.most_common(1)[0][0]\n",
    "predict_y"
   ],
   "metadata": {
    "collapsed": false,
    "pycharm": {
     "name": "#%%\n"
    }
   }
  },
  {
   "cell_type": "code",
   "source": [
    "# sklearn实现kNN分类算法\n",
    "from sklearn.neighbors import KNeighborsClassifier\n",
    "\n",
    "sklearn_knn = KNeighborsClassifier(n_neighbors=6)\n",
    "sklearn_knn.fit(X=X_train,y=y_train)\n",
    "X_predict = x.reshape(1,-1)  # 对于一个1维的向量，我们必须传入行列式！！\n",
    "sklearn_knn.predict(X_predict)"
   ],
   "metadata": {
    "collapsed": false,
    "pycharm": {
     "name": "#%%\n"
    }
   },
   "execution_count": 4,
   "outputs": [
    {
     "data": {
      "text/plain": "array([1])"
     },
     "execution_count": 4,
     "metadata": {},
     "output_type": "execute_result"
    }
   ]
  },
  {
   "cell_type": "markdown",
   "source": [
    "# 使用自己编写的库实现"
   ],
   "metadata": {
    "collapsed": false,
    "pycharm": {
     "name": "#%% md\n"
    }
   }
  },
  {
   "cell_type": "code",
   "execution_count": 5,
   "outputs": [
    {
     "data": {
      "text/plain": "array([1])"
     },
     "execution_count": 5,
     "metadata": {},
     "output_type": "execute_result"
    }
   ],
   "source": [
    "import neighbors\n",
    "sw_knn = neighbors.KNeighborsClassifier(n_neighbors=6)\n",
    "sw_knn.fit(X_train,y_train)\n",
    "sw_knn.predict(X_predict=X_predict)"
   ],
   "metadata": {
    "collapsed": false,
    "pycharm": {
     "name": "#%%\n"
    }
   }
  }
 ],
 "metadata": {
  "kernelspec": {
   "display_name": "Python 3",
   "language": "python",
   "name": "python3"
  },
  "language_info": {
   "codemirror_mode": {
    "name": "ipython",
    "version": 2
   },
   "file_extension": ".py",
   "mimetype": "text/x-python",
   "name": "python",
   "nbconvert_exporter": "python",
   "pygments_lexer": "ipython2",
   "version": "2.7.6"
  }
 },
 "nbformat": 4,
 "nbformat_minor": 0
}