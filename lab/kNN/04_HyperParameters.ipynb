{
 "cells": [
  {
   "cell_type": "markdown",
   "source": [
    "# 超参数\n",
    "## 运行机器学习算法之前所需要准备的参数。与之对应的是模型参数，是指算法过程中学习到的参数\n",
    "- kNN算法是没有模型参数的\n",
    "- kNN中的k就是一个典型的超参数\n",
    "## 寻找超参数\n",
    "- 领域知识\n",
    "- 经验数值\n",
    "- 实验搜索\n",
    "\n",
    "## (一) 导入数据并将测试数据、训练数据分类"
   ],
   "attachments": {},
   "metadata": {}
  },
  {
   "cell_type": "code",
   "source": [
    "from sklearn.datasets import load_digits\n",
    "from sklearn.model_selection import train_test_split\n",
    "\n",
    "\n",
    "digits = load_digits()"
   ],
   "execution_count": 1,
   "outputs": [],
   "metadata": {}
  },
  {
   "cell_type": "code",
   "source": [
    "X = digits.data\n",
    "y = digits.target"
   ],
   "execution_count": 2,
   "outputs": [],
   "metadata": {}
  },
  {
   "cell_type": "code",
   "source": [
    "X_train,X_test,y_train,y_test = train_test_split(X,y,test_size=.2,random_state=666)"
   ],
   "execution_count": 3,
   "outputs": [],
   "metadata": {}
  },
  {
   "cell_type": "code",
   "source": [
    "from sklearn.neighbors import KNeighborsClassifier\n",
    "\n",
    "best_k = 0\n",
    "best_score = 0\n",
    "\n",
    "for k in range(1,11):\n",
    "    knn = KNeighborsClassifier(n_neighbors=k)\n",
    "    knn.fit(X_train,y_train)\n",
    "    cur_score = knn.score(X_test,y_test)\n",
    "    if cur_score > best_score:\n",
    "        best_k = k\n",
    "        best_score = cur_score\n",
    "    print(\"第\",k,\"近邻时的得分：\",cur_score)\n",
    "print(best_k)\n",
    "print(best_score)"
   ],
   "execution_count": 4,
   "outputs": [
    {
     "name": "stdout",
     "output_type": "stream",
     "text": [
      "第 1 近邻时的得分： 0.9833333333333333\n",
      "第 2 近邻时的得分： 0.9888888888888889\n",
      "第 3 近邻时的得分： 0.9888888888888889\n",
      "第 4 近邻时的得分： 0.9916666666666667\n",
      "第 5 近邻时的得分： 0.9888888888888889\n",
      "第 6 近邻时的得分： 0.9888888888888889\n",
      "第 7 近邻时的得分： 0.9861111111111112\n",
      "第 8 近邻时的得分： 0.9861111111111112\n",
      "第 9 近邻时的得分： 0.9833333333333333\n",
      "第 10 近邻时的得分： 0.9833333333333333\n",
      "4\n",
      "0.9916666666666667\n"
     ]
    }
   ],
   "metadata": {}
  },
  {
   "cell_type": "markdown",
   "source": [
    "## (二) 寻找超参数"
   ],
   "attachments": {},
   "metadata": {}
  },
  {
   "cell_type": "markdown",
   "source": [
    "**但是，我们的kNN算法除了k这个参数之外，还有其他参数，比如我们这里定义的距离是欧拉距离，但是并不仅限于欧拉距离，我们希望的距离是更具有普遍性的，所以我们选用明可夫斯基距离进行描述**</br>\n",
    "按照以下步骤进行寻找最优：\n",
    "1. 在uniform和distance中寻找超参，如果是distance，就需要对p进行判断\n",
    "2. 对p进行判断，证明了这个训练模型用kNN和距离权重的相关性更大"
   ],
   "attachments": {},
   "metadata": {}
  },
  {
   "cell_type": "code",
   "source": [
    "best_k = 0\n",
    "best_score = .0\n",
    "best_method = \"\""
   ],
   "execution_count": 5,
   "outputs": [],
   "metadata": {}
  },
  {
   "cell_type": "code",
   "source": [
    "for method in [\"uniform\", \"distance\"]:\n",
    "    for k in range(1,11):\n",
    "        knn = KNeighborsClassifier(n_neighbors=k,weights=method)\n",
    "        knn.fit(X_train,y_train)\n",
    "        score = knn.score(X_test,y_test)\n",
    "        if score > best_score:\n",
    "            best_score = score\n",
    "            best_k = k\n",
    "            best_method = method\n",
    "print(\"best_k:\",best_k)\n",
    "print(\"best_score:\",best_score)\n",
    "print(\"best_method:\",best_method)"
   ],
   "execution_count": 6,
   "outputs": [
    {
     "name": "stdout",
     "output_type": "stream",
     "text": [
      "best_k: 4\n",
      "best_score: 0.9916666666666667\n",
      "best_method: uniform\n"
     ]
    }
   ],
   "metadata": {}
  },
  {
   "cell_type": "markdown",
   "source": [
    "这里，我们证明了这个训练模型kNN和距离的相关性不大，但是为了验证一下我们的p值，我还是做以下试验以证明明可夫斯基距离的存在性"
   ],
   "attachments": {},
   "metadata": {}
  },
  {
   "cell_type": "code",
   "source": [
    "best_k = 0\n",
    "best_score = .0\n",
    "best_method = \"\""
   ],
   "execution_count": 7,
   "outputs": [],
   "metadata": {}
  },
  {
   "cell_type": "code",
   "source": [
    "%run\n",
    "for k in range(1,10):\n",
    "    for p in range(1,5):\n",
    "        knn = KNeighborsClassifier(n_neighbors=k,weights=\"distance\",p=p,n_jobs=-1)\n",
    "        knn.fit(X_train,y_train)\n",
    "        score=knn.score(X_test,y_test)\n",
    "        if score > best_score:\n",
    "            best_score = score\n",
    "            best_k = k\n",
    "            best_method = method\n",
    "print(\"weights=distance\")\n",
    "print(\"best_k:\",best_k)\n",
    "print(\"best_score:\",best_score)    "
   ],
   "execution_count": null,
   "outputs": [],
   "metadata": {
    "pycharm": {
     "is_executing": true
    }
   }
  },
  {
   "cell_type": "code",
   "source": [],
   "execution_count": null,
   "outputs": [],
   "metadata": {
    "pycharm": {
     "is_executing": true
    }
   }
  }
 ],
 "metadata": {
  "kernelspec": {
   "name": "python3",
   "language": "python",
   "display_name": "Python 3"
  }
 },
 "nbformat": 4,
 "nbformat_minor": 0
}