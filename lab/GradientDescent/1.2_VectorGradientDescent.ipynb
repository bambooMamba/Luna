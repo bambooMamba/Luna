{
 "cells": [
  {
   "cell_type": "markdown",
   "metadata": {
    "collapsed": true,
    "pycharm": {
     "name": "#%% md\n"
    }
   },
   "source": [
    "很明显，对J的偏导数：\n",
    "$\\Delta J = \\frac{2}{m}(\\sum_{i=1}^m(X^I_b\\theta - y^i,\\sum_{i=1}^m(X^i_b\\theta - y^i)·X^i_1,...,\\sum_{i=1}^m(X^i_b\\theta - y^i)·X^i_n)^T$\n",
    "\n",
    "\n"
   ]
  }
 ],
 "metadata": {
  "kernelspec": {
   "display_name": "Python 3",
   "language": "python",
   "name": "python3"
  },
  "language_info": {
   "codemirror_mode": {
    "name": "ipython",
    "version": 2
   },
   "file_extension": ".py",
   "mimetype": "text/x-python",
   "name": "python",
   "nbconvert_exporter": "python",
   "pygments_lexer": "ipython2",
   "version": "2.7.6"
  }
 },
 "nbformat": 4,
 "nbformat_minor": 0
}