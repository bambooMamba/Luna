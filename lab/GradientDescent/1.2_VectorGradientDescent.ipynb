{
 "cells": [
  {
   "cell_type": "markdown",
   "metadata": {
    "collapsed": true,
    "pycharm": {
     "name": "#%% md\n"
    }
   },
   "source": [
    "很明显，对J的偏导数：\n",
    "\n",
    "$\\Delta J = \\frac{2}{m}(\\sum_{i=1}^m(X^I_b\\theta - y^i,\\sum_{i=1}^m(X^i_b\\theta - y^i)·X^i_1,...,\\sum_{i=1}^m(X^i_b\\theta - y^i)·X^i_n)^T$\n",
    "\n",
    "是可以转换成向量的运算的，因为每一项格式都很像。\n",
    "\n",
    "同样的，我们增加$X_0 == 1$最后推导出来线性回归中使用梯度下降法向量求解公式：\n",
    "\n",
    "$\\frac{2}{m}·(X_b\\theta - y)^T·X_b$\n",
    "\n",
    "$\\frac{2}{m}·X^T_b·(X_b\\theta - y)$\n",
    "\n",
    "**我们可以这样理解这个结果矩阵：X_b这个矩阵是一个m×(n+1)维的矩阵，转置后得到(n+1)×m维的矩阵，(X_b·θ-y)是一个列向量总共有m项，经过点乘之后，得到一个(n+1)项的列向量**"
   ]
  }
 ],
 "metadata": {
  "kernelspec": {
   "display_name": "Python 3",
   "language": "python",
   "name": "python3"
  },
  "language_info": {
   "codemirror_mode": {
    "name": "ipython",
    "version": 2
   },
   "file_extension": ".py",
   "mimetype": "text/x-python",
   "name": "python",
   "nbconvert_exporter": "python",
   "pygments_lexer": "ipython2",
   "version": "2.7.6"
  }
 },
 "nbformat": 4,
 "nbformat_minor": 0
}