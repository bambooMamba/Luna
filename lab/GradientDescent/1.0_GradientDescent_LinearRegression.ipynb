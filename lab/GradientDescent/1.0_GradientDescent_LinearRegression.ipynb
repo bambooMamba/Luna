{
 "cells": [
  {
   "cell_type": "markdown",
   "metadata": {
    "collapsed": true,
    "pycharm": {
     "name": "#%% md\n"
    }
   },
   "source": [
    "# 梯度下降法GradientDescent\n",
    "- 将之前的推理扩展到高维，可以认为梯度代表方向，对应J增大的方向，区别在于：之前处理的是一个导数问题，高维空间中处理的是一个向量\n",
    "- 暨$-\\eta\\Delta J$\n",
    "- $\\Delta J = (\\frac{∂J}{∂\\theta_0},\\frac{∂J}{∂\\theta_1},...,\\frac{∂J}{∂\\theta_n})$\n",
    "\n",
    "![梯度下降法](../../pic/multiGradientDescent.png)\n",
    "\n",
    "- 梯度方向是下降最快的方向\n",
    "- 简单线性回归的目标：使损失函数$\\sum_{i=1}^m(y^i - \\hat y^i)^2$···(1)尽可能小\n",
    "- $\\hat y^i = \\theta_0 + \\theta_1X^i_1 + \\theta_2X^i_2+...+\\theta_nX^i_n$ ··· (2)\n",
    "- (2)带入(1)得损失函数J：$\\sum_{i=1}^m(y^i - \\theta_0 - \\theta_1X^i_1 - \\theta_2X^i_2 - ... - \\theta_nX^i_n)^2$\n",
    "- 对应的J的梯度值，暨J对$\\theta$每个维度的未知量求导：\n",
    "\n",
    "$$\\Delta J(\\theta) = (\\frac{∂J}{∂\\theta_0},\\frac{∂J}{∂\\theta_1}...\\frac{∂J}{∂\\theta_n})^T$$\n",
    "\n",
    "最后可以推导出：$\\Delta J = \\frac{2}{m}(\\sum_{i=1}^m(X^I_b\\theta - y^i,\\sum_{i=1}^m(X^i_b\\theta - y^i)·X^i_1,...,\\sum_{i=1}^m(X^i_b\\theta - y^i)·X^i_n)^T$"
   ]
  },
  {
   "cell_type": "code",
   "execution_count": 1,
   "outputs": [],
   "source": [
    "import numpy as np\n",
    "\n",
    "np.random.seed(666)\n",
    "x = 2 * np.random.random(size=100)\n",
    "y = x * 6. + 9. + np.random.normal(size=100)\n",
    "X = x.reshape(-1, 1)"
   ],
   "metadata": {
    "collapsed": false,
    "pycharm": {
     "name": "#%%\n"
    }
   }
  },
  {
   "cell_type": "markdown",
   "source": [
    "## 使用上面推导出来的公式，使用梯度下降法训练"
   ],
   "metadata": {
    "collapsed": false,
    "pycharm": {
     "name": "#%% md\n"
    }
   }
  },
  {
   "cell_type": "code",
   "execution_count": 2,
   "outputs": [],
   "source": [
    "def J(theta, X_b, y):\n",
    "    try:\n",
    "        return np.sum((y - X_b.dot(theta)) ** 2) / len(X_b)\n",
    "    except:\n",
    "        return float('inf')\n",
    "def dJ(theta, X_b, y):\n",
    "    result = np.empty(len(theta))\n",
    "    result[0] = np.sum(X_b.dot(theta) - y)\n",
    "    for i in range(1, len(theta)):\n",
    "        result[i] = (X_b.dot(theta) - y).dot(X_b[:, i])\n",
    "    return result * 2 / len(X_b)\n",
    "\n",
    "def gradient_descent(X_b, y, initial_theta, eta, n_iter=1e4, epsilon=1e-8):\n",
    "    theta = initial_theta\n",
    "    cur_iter = 0\n",
    "    while cur_iter < n_iter:\n",
    "        gradient = dJ(theta, X_b, y)\n",
    "        last_theta = theta\n",
    "        theta = theta - eta * gradient\n",
    "        if abs(J(last_theta, X_b, y) - J(theta, X_b, y)) < epsilon:\n",
    "            break\n",
    "        cur_iter+=1\n",
    "    print(\"curent iter:\",cur_iter)\n",
    "    return theta"
   ],
   "metadata": {
    "collapsed": false,
    "pycharm": {
     "name": "#%%\n"
    }
   }
  },
  {
   "cell_type": "code",
   "execution_count": 3,
   "outputs": [
    {
     "name": "stdout",
     "output_type": "stream",
     "text": [
      "curent iter: 2037\n"
     ]
    },
    {
     "data": {
      "text/plain": "array([9.02145676, 6.0070637 ])"
     },
     "execution_count": 3,
     "metadata": {},
     "output_type": "execute_result"
    }
   ],
   "source": [
    "X_b = np.hstack([np.ones((len(x), 1)), x.reshape(-1,1)])\n",
    "initial_theta = np.zeros(X_b.shape[1])\n",
    "eta = 0.01\n",
    "theta = gradient_descent(X_b,y,initial_theta,eta)\n",
    "theta"
   ],
   "metadata": {
    "collapsed": false,
    "pycharm": {
     "name": "#%%\n"
    }
   }
  },
  {
   "cell_type": "code",
   "execution_count": 4,
   "outputs": [
    {
     "name": "stdout",
     "output_type": "stream",
     "text": [
      "curent iter: 2037\n"
     ]
    },
    {
     "data": {
      "text/plain": "array([9.02145676, 6.0070637 ])"
     },
     "execution_count": 4,
     "metadata": {},
     "output_type": "execute_result"
    }
   ],
   "source": [
    "\n",
    "def J(theta, X_b, y):\n",
    "    try:\n",
    "        return np.sum((y - X_b.dot(theta))**2) / len(X_b)\n",
    "    except:\n",
    "        return float('inf')\n",
    "def dJ(theta, X_b, y):\n",
    "    res = np.empty(len(theta))\n",
    "    res[0] = np.sum(X_b.dot(theta) - y)\n",
    "    for i in range(1, len(theta)):\n",
    "        res[i] = (X_b.dot(theta) - y).dot(X_b[:,i])\n",
    "    return res * 2 / len(X_b)\n",
    "def gradient_descent(X_b, y, initial_theta, eta, n_iters = 1e4, epsilon=1e-8):\n",
    "    theta = initial_theta\n",
    "    cur_iter = 0\n",
    "    while cur_iter < n_iters:\n",
    "        gradient = dJ(theta, X_b, y)\n",
    "        last_theta = theta\n",
    "        theta = theta - eta * gradient\n",
    "        if abs(J(theta, X_b, y) - J(last_theta, X_b, y)) < epsilon:\n",
    "            break\n",
    "        cur_iter += 1\n",
    "    print(\"curent iter:\",cur_iter)\n",
    "    return theta\n",
    "\n",
    "X_b = np.hstack([np.ones((len(x), 1)), x.reshape(-1,1)])\n",
    "initial_theta = np.zeros(X_b.shape[1])\n",
    "eta = 0.01\n",
    "\n",
    "theta = gradient_descent(X_b, y, initial_theta, eta)\n",
    "theta"
   ],
   "metadata": {
    "collapsed": false,
    "pycharm": {
     "name": "#%%\n"
    }
   }
  },
  {
   "cell_type": "code",
   "execution_count": 4,
   "outputs": [],
   "source": [],
   "metadata": {
    "collapsed": false,
    "pycharm": {
     "name": "#%%\n"
    }
   }
  }
 ],
 "metadata": {
  "kernelspec": {
   "display_name": "Python 3",
   "language": "python",
   "name": "python3"
  },
  "language_info": {
   "codemirror_mode": {
    "name": "ipython",
    "version": 2
   },
   "file_extension": ".py",
   "mimetype": "text/x-python",
   "name": "python",
   "nbconvert_exporter": "python",
   "pygments_lexer": "ipython2",
   "version": "2.7.6"
  }
 },
 "nbformat": 4,
 "nbformat_minor": 0
}