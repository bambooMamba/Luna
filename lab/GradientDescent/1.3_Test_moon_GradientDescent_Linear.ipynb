{
 "cells": [
  {
   "cell_type": "code",
   "execution_count": 16,
   "metadata": {
    "collapsed": true
   },
   "outputs": [],
   "source": [
    "from sklearn import datasets\n",
    "\n",
    "boston = datasets.load_boston()\n",
    "X = boston.data\n",
    "y = boston.target\n",
    "\n",
    "X = X[y < 50.0]\n",
    "y = y[y < 50.0]\n"
   ]
  },
  {
   "cell_type": "code",
   "execution_count": 17,
   "outputs": [],
   "source": [
    "from moon.model_selection import train_test_split\n",
    "\n",
    "X_train,X_test,y_train,y_test = train_test_split(X, y, seed=666)\n"
   ],
   "metadata": {
    "collapsed": false,
    "pycharm": {
     "name": "#%%\n"
    }
   }
  },
  {
   "cell_type": "markdown",
   "source": [
    "# 使用传统的线性回归（正规方程）方式进行计算："
   ],
   "metadata": {
    "collapsed": false,
    "pycharm": {
     "name": "#%% md\n"
    }
   }
  },
  {
   "cell_type": "code",
   "execution_count": 18,
   "outputs": [
    {
     "name": "stdout",
     "output_type": "stream",
     "text": [
      "0.8129794056212774\n",
      "[-1.20354261e-01  3.64423279e-02 -3.61493155e-02  5.12978140e-02\n",
      " -1.15775825e+01  3.42740062e+00 -2.32311760e-02 -1.19487594e+00\n",
      "  2.60101728e-01 -1.40219119e-02 -8.35430488e-01  7.80472852e-03\n",
      " -3.80923751e-01]\n",
      "34.11739972320099\n",
      "Wall time: 2 ms\n"
     ]
    }
   ],
   "source": [
    "%%time\n",
    "from moon.linear_model import MultipleLinearRegression\n",
    "\n",
    "m = MultipleLinearRegression()\n",
    "regression = m\n",
    "regression.fit_normal(X_train, y_train)\n",
    "print(regression.score(X_test, y_test))\n",
    "print(regression.coef_)\n",
    "print(regression.intercept_)"
   ],
   "metadata": {
    "collapsed": false,
    "pycharm": {
     "name": "#%%\n"
    }
   }
  },
  {
   "cell_type": "markdown",
   "source": [
    "# 使用梯度下降的方式进行计算："
   ],
   "metadata": {
    "collapsed": false,
    "pycharm": {
     "name": "#%% md\n"
    }
   }
  },
  {
   "cell_type": "code",
   "execution_count": 19,
   "outputs": [
    {
     "name": "stderr",
     "output_type": "stream",
     "text": [
      "C:\\ProgramData\\Anaconda3\\lib\\site-packages\\numpy\\core\\fromnumeric.py:90: RuntimeWarning: overflow encountered in reduce\n",
      "  return ufunc.reduce(obj, axis, dtype, out, **passkwargs)\n",
      "D:\\PythonProject\\Luna\\moon\\linear_model.py:97: RuntimeWarning: overflow encountered in square\n",
      "  return np.sum((y - X_b.dot(theta)) ** 2) / len(X_b)\n",
      "D:\\PythonProject\\Luna\\moon\\linear_model.py:116: RuntimeWarning: invalid value encountered in double_scalars\n",
      "  if abs(J(last_theta, X_b, y) - J(theta, X_b, y)) < epsilon:\n"
     ]
    },
    {
     "name": "stdout",
     "output_type": "stream",
     "text": [
      "Wall time: 282 ms\n"
     ]
    },
    {
     "data": {
      "text/plain": "<moon.linear_model.MultipleLinearRegression at 0x297d43a59a0>"
     },
     "execution_count": 19,
     "metadata": {},
     "output_type": "execute_result"
    }
   ],
   "source": [
    "%%time\n",
    "from moon.linear_model import MultipleLinearRegression\n",
    "\n",
    "linear_regression = m\n",
    "linear_regression.fit_gradient_descent(X_train,y_train)"
   ],
   "metadata": {
    "collapsed": false,
    "pycharm": {
     "name": "#%%\n"
    }
   }
  },
  {
   "cell_type": "code",
   "execution_count": 20,
   "outputs": [
    {
     "data": {
      "text/plain": "array([nan, nan, nan, nan, nan, nan, nan, nan, nan, nan, nan, nan, nan])"
     },
     "execution_count": 20,
     "metadata": {},
     "output_type": "execute_result"
    }
   ],
   "source": [
    "linear_regression.coef_"
   ],
   "metadata": {
    "collapsed": false,
    "pycharm": {
     "name": "#%%\n"
    }
   }
  },
  {
   "cell_type": "markdown",
   "source": [
    "根据观察，每一个测试集的特征维度并不在同一个数据量级中，所以$\\eta$的取值需要非常小才能尽可能缩小这个量级差距"
   ],
   "metadata": {
    "collapsed": false,
    "pycharm": {
     "name": "#%% md\n"
    }
   }
  },
  {
   "cell_type": "code",
   "execution_count": 21,
   "outputs": [
    {
     "data": {
      "text/plain": "<moon.linear_model.MultipleLinearRegression at 0x297d43a59a0>"
     },
     "execution_count": 21,
     "metadata": {},
     "output_type": "execute_result"
    }
   ],
   "source": [
    "linear_regression.fit_gradient_descent(X_train,y_train,eta=.000001)"
   ],
   "metadata": {
    "collapsed": false,
    "pycharm": {
     "name": "#%%\n"
    }
   }
  },
  {
   "cell_type": "code",
   "execution_count": 22,
   "outputs": [
    {
     "data": {
      "text/plain": "0.27586818724477224"
     },
     "execution_count": 22,
     "metadata": {},
     "output_type": "execute_result"
    }
   ],
   "source": [
    "linear_regression.score(X_test,y_test)"
   ],
   "metadata": {
    "collapsed": false,
    "pycharm": {
     "name": "#%%\n"
    }
   }
  },
  {
   "cell_type": "markdown",
   "source": [
    "可以看到，这个$R^2$值太小，这可能是因为学习率$\\eta$太小，使得人为干预的学习次数达到上限\n"
   ],
   "metadata": {
    "collapsed": false,
    "pycharm": {
     "name": "#%% md\n"
    }
   }
  },
  {
   "cell_type": "code",
   "execution_count": 23,
   "outputs": [
    {
     "name": "stdout",
     "output_type": "stream",
     "text": [
      "Wall time: 25.6 s\n"
     ]
    },
    {
     "data": {
      "text/plain": "<moon.linear_model.MultipleLinearRegression at 0x297d43a59a0>"
     },
     "execution_count": 23,
     "metadata": {},
     "output_type": "execute_result"
    }
   ],
   "source": [
    "%time linear_regression.fit_gradient_descent(X_train,y_train,eta=.000001,n_iters=1e6)"
   ],
   "metadata": {
    "collapsed": false,
    "pycharm": {
     "name": "#%%\n"
    }
   }
  },
  {
   "cell_type": "code",
   "execution_count": 24,
   "outputs": [
    {
     "data": {
      "text/plain": "0.7542932581943915"
     },
     "execution_count": 24,
     "metadata": {},
     "output_type": "execute_result"
    }
   ],
   "source": [
    "linear_regression.score(X_test,y_test)"
   ],
   "metadata": {
    "collapsed": false,
    "pycharm": {
     "name": "#%%\n"
    }
   }
  },
  {
   "cell_type": "code",
   "execution_count": 31,
   "outputs": [
    {
     "data": {
      "text/plain": "array([[1.42362e+01, 0.00000e+00, 1.81000e+01, 0.00000e+00, 6.93000e-01,\n        6.34300e+00, 1.00000e+02, 1.57410e+00, 2.40000e+01, 6.66000e+02,\n        2.02000e+01, 3.96900e+02, 2.03200e+01],\n       [3.67822e+00, 0.00000e+00, 1.81000e+01, 0.00000e+00, 7.70000e-01,\n        5.36200e+00, 9.62000e+01, 2.10360e+00, 2.40000e+01, 6.66000e+02,\n        2.02000e+01, 3.80790e+02, 1.01900e+01],\n       [1.04690e-01, 4.00000e+01, 6.41000e+00, 1.00000e+00, 4.47000e-01,\n        7.26700e+00, 4.90000e+01, 4.78720e+00, 4.00000e+00, 2.54000e+02,\n        1.76000e+01, 3.89250e+02, 6.05000e+00],\n       [1.15172e+00, 0.00000e+00, 8.14000e+00, 0.00000e+00, 5.38000e-01,\n        5.70100e+00, 9.50000e+01, 3.78720e+00, 4.00000e+00, 3.07000e+02,\n        2.10000e+01, 3.58770e+02, 1.83500e+01],\n       [6.58800e-02, 0.00000e+00, 2.46000e+00, 0.00000e+00, 4.88000e-01,\n        7.76500e+00, 8.33000e+01, 2.74100e+00, 3.00000e+00, 1.93000e+02,\n        1.78000e+01, 3.95560e+02, 7.56000e+00],\n       [2.49800e-02, 0.00000e+00, 1.89000e+00, 0.00000e+00, 5.18000e-01,\n        6.54000e+00, 5.97000e+01, 6.26690e+00, 1.00000e+00, 4.22000e+02,\n        1.59000e+01, 3.89960e+02, 8.65000e+00],\n       [7.75223e+00, 0.00000e+00, 1.81000e+01, 0.00000e+00, 7.13000e-01,\n        6.30100e+00, 8.37000e+01, 2.78310e+00, 2.40000e+01, 6.66000e+02,\n        2.02000e+01, 2.72210e+02, 1.62300e+01],\n       [9.88430e-01, 0.00000e+00, 8.14000e+00, 0.00000e+00, 5.38000e-01,\n        5.81300e+00, 1.00000e+02, 4.09520e+00, 4.00000e+00, 3.07000e+02,\n        2.10000e+01, 3.94540e+02, 1.98800e+01],\n       [1.14320e-01, 0.00000e+00, 8.56000e+00, 0.00000e+00, 5.20000e-01,\n        6.78100e+00, 7.13000e+01, 2.85610e+00, 5.00000e+00, 3.84000e+02,\n        2.09000e+01, 3.95580e+02, 7.67000e+00],\n       [5.69175e+00, 0.00000e+00, 1.81000e+01, 0.00000e+00, 5.83000e-01,\n        6.11400e+00, 7.98000e+01, 3.54590e+00, 2.40000e+01, 6.66000e+02,\n        2.02000e+01, 3.92680e+02, 1.49800e+01]])"
     },
     "execution_count": 31,
     "metadata": {},
     "output_type": "execute_result"
    }
   ],
   "source": [
    "X_train[:10]"
   ],
   "metadata": {
    "collapsed": false,
    "pycharm": {
     "name": "#%%\n"
    }
   }
  },
  {
   "cell_type": "markdown",
   "source": [
    "显然，在使用梯度下降法时，我们需要使用数据归一化进行计算"
   ],
   "metadata": {
    "collapsed": false,
    "pycharm": {
     "name": "#%% md\n"
    }
   },
   "execution_count": 24
  },
  {
   "cell_type": "code",
   "execution_count": 34,
   "outputs": [
    {
     "data": {
      "text/plain": "array([[ 1.22372711e+00, -4.72938312e-01,  1.00449680e+00,\n        -2.37915476e-01,  1.17672219e+00,  1.74619704e-01,\n         1.12041788e+00, -1.04618570e+00,  1.66456428e+00,\n         1.53040651e+00,  7.79319066e-01,  4.39429823e-01,\n         1.01121088e+00],\n       [ 2.85335963e-03, -4.72938312e-01,  1.00449680e+00,\n        -2.37915476e-01,  1.83672499e+00, -1.31943651e+00,\n         9.87370381e-01, -7.96657333e-01,  1.66456428e+00,\n         1.53040651e+00,  7.79319066e-01,  2.62156418e-01,\n        -4.03855745e-01],\n       [-4.10372369e-01,  1.27996861e+00, -7.12624284e-01,\n         4.20317340e+00, -9.31858180e-01,  1.58186531e+00,\n        -6.65219648e-01,  4.67996723e-01, -6.36649609e-01,\n        -9.32591469e-01, -4.50790880e-01,  3.55249714e-01,\n        -9.82175177e-01],\n       [-2.89298883e-01, -4.72938312e-01, -4.58507991e-01,\n        -2.37915476e-01, -1.51854871e-01, -8.03141854e-01,\n         9.45355380e-01, -3.25609248e-03, -6.36649609e-01,\n        -6.15749496e-01,  1.15781443e+00,  1.98497527e-02,\n         7.36020236e-01],\n       [-4.14860170e-01, -4.72938312e-01, -1.29283201e+00,\n        -2.37915476e-01, -5.80428118e-01,  2.34031587e+00,\n         5.35709123e-01, -4.96280788e-01, -7.51710303e-01,\n        -1.29725865e+00, -3.56167038e-01,  4.24684549e-01,\n        -7.71242244e-01],\n       [-4.19589648e-01, -4.72938312e-01, -1.37655818e+00,\n        -2.37915476e-01, -3.23284170e-01,  4.74649341e-01,\n        -2.90585892e-01,  1.16530951e+00, -9.81831693e-01,\n         7.17378053e-02, -1.25509354e+00,  3.63062509e-01,\n        -6.18979399e-01],\n       [ 4.73952175e-01, -4.72938312e-01,  1.00449680e+00,\n        -2.37915476e-01,  1.34815149e+00,  1.10653995e-01,\n         5.49714123e-01, -4.76441045e-01,  1.66456428e+00,\n         1.53040651e+00,  7.79319066e-01, -9.32650926e-01,\n         4.39875986e-01],\n       [-3.08180949e-01, -4.72938312e-01, -4.58507991e-01,\n        -2.37915476e-01, -1.51854871e-01, -6.32566629e-01,\n         1.12041788e+00,  1.41889775e-01, -6.36649609e-01,\n        -6.15749496e-01,  1.15781443e+00,  4.13460534e-01,\n         9.49746983e-01],\n       [-4.09258802e-01, -4.72938312e-01, -3.96815018e-01,\n        -2.37915476e-01, -3.06141240e-01,  8.41690674e-01,\n         1.15559116e-01, -4.42039589e-01, -5.21588914e-01,\n        -1.55431912e-01,  1.11050251e+00,  4.24904628e-01,\n        -7.55876269e-01],\n       [ 2.35688232e-01, -4.72938312e-01,  1.00449680e+00,\n        -2.37915476e-01,  2.33861050e-01, -1.74145711e-01,\n         4.13165371e-01, -1.16969397e-01,  1.66456428e+00,\n         1.53040651e+00,  7.79319066e-01,  3.92993214e-01,\n         2.65262631e-01]])"
     },
     "execution_count": 34,
     "metadata": {},
     "output_type": "execute_result"
    }
   ],
   "source": [
    "# from moon.preprocessing import StandardScaler\n",
    "#\n",
    "# scaler = StandardScaler()\n",
    "# scaler.fit(X_train)\n",
    "# X_train_std = scaler.transform(X_train)\n",
    "# X_train_std[:10]\n",
    "\n",
    "from sklearn.preprocessing import StandardScaler\n",
    "\n",
    "std = StandardScaler()\n",
    "std.fit(X_train)\n",
    "X_train_std = std.transform(X_train)\n",
    "X_train_std[:10]"
   ],
   "metadata": {
    "collapsed": false,
    "pycharm": {
     "name": "#%%\n"
    }
   }
  },
  {
   "cell_type": "code",
   "execution_count": 35,
   "outputs": [
    {
     "name": "stdout",
     "output_type": "stream",
     "text": [
      "Wall time: 119 ms\n",
      "[-1.04042202  0.83093351 -0.24794356  0.01179456 -1.35034756  2.25074\n",
      " -0.66384353 -2.53568774  2.25572406 -2.34011572 -1.76565394  0.70923397\n",
      " -2.72677064]\n",
      "21.500765306122382\n"
     ]
    }
   ],
   "source": [
    "multiple_linear_regression = MultipleLinearRegression()\n",
    "%time multiple_linear_regression.fit_gradient_descent(X_train_std, y_train)\n",
    "print(multiple_linear_regression.coef_)\n",
    "print(multiple_linear_regression.intercept_)"
   ],
   "metadata": {
    "collapsed": false,
    "pycharm": {
     "name": "#%%\n"
    }
   }
  },
  {
   "cell_type": "code",
   "execution_count": 36,
   "outputs": [],
   "source": [
    "X_test_std = std.transform(X_test)"
   ],
   "metadata": {
    "collapsed": false,
    "pycharm": {
     "name": "#%%\n"
    }
   }
  },
  {
   "cell_type": "code",
   "execution_count": 37,
   "outputs": [
    {
     "data": {
      "text/plain": "0.8129873310487505"
     },
     "execution_count": 37,
     "metadata": {},
     "output_type": "execute_result"
    }
   ],
   "source": [
    "multiple_linear_regression.score(X_test_std,y_test)"
   ],
   "metadata": {
    "collapsed": false,
    "pycharm": {
     "name": "#%%\n"
    }
   }
  },
  {
   "cell_type": "code",
   "execution_count": null,
   "outputs": [],
   "source": [],
   "metadata": {
    "collapsed": false,
    "pycharm": {
     "name": "#%%\n"
    }
   }
  }
 ],
 "metadata": {
  "kernelspec": {
   "display_name": "Python 3",
   "language": "python",
   "name": "python3"
  },
  "language_info": {
   "codemirror_mode": {
    "name": "ipython",
    "version": 2
   },
   "file_extension": ".py",
   "mimetype": "text/x-python",
   "name": "python",
   "nbconvert_exporter": "python",
   "pygments_lexer": "ipython2",
   "version": "2.7.6"
  }
 },
 "nbformat": 4,
 "nbformat_minor": 0
}